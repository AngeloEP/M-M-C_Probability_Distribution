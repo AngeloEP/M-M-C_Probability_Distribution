{
 "cells": [
  {
   "cell_type": "markdown",
   "metadata": {},
   "source": [
    "# Distribución de Probabilidades para M/M/C\n",
    "\n",
    "\n",
    "\n",
    "### Hagamos un recuerdo de que significa una distribución de probabilidades:\n",
    "\n",
    "- La distribución de probabilidad de una variable aleatoria es una función que asigna a __cada suceso__ definido sobre la __variable la probabilidad__ de que dicho suceso ocurra. La distribución de probabilidad está definida sobre el conjunto de todos los sucesos y cada uno de los sucesos es el rango de valores de la variable aleatoria. "
   ]
  },
  {
   "cell_type": "markdown",
   "metadata": {},
   "source": [
    "### La Distribución Gamma\n",
    "\n",
    "- Este modelo es una generalización del modelo Exponencial ya que, en ocasiones, se utiliza para modelar  variables que describen el tiempo hasta que se produce p veces un determinado suceso.\n",
    "\n",
    "- La distribución Gamma aparece cuando se realiza un estudio de la duración de elementos físicos. \n",
    "\n",
    "- En estadística la distribución gamma es una distribución de probabilidad continua con dos parámetros $k>0$ y $\\lambda >0$ reales, cuya función de densidad para valores $x>0$ es:\n",
    "\n",
    "$$ f(x) = \\lambda e^{- \\lambda x} \\frac{(\\lambda x)^{k-1}}{\\Gamma(k)}$$\n",
    "\n",
    "Aquí $e$ es el número de Euler y $\\Gamma$ es la __función gamma__. Para valores ${\\displaystyle k\\in \\mathbb {N} }$ la función gamma es $\\Gamma(k) = (k-1)!$ (el factorial de ${\\displaystyle k-1)}$.\n",
    "\n",
    "El valor esperado y la varianza de una variable aleatoria X de distribución gamma son\n",
    "\n",
    "${\\displaystyle E[X]=k/\\lambda  }$\n",
    "\n",
    "${\\displaystyle V[X]=k/\\lambda ^{2}}$"
   ]
  },
  {
   "attachments": {
    "image.png": {
     "image/png": "[encoded data removed]"
    }
   },
   "cell_type": "markdown",
   "metadata": {},
   "source": [
    "![image.png](attachment:image.png)"
   ]
  },
  {
   "cell_type": "markdown",
   "metadata": {},
   "source": [
    "### Distribución de Probabilidad en Equilibrio de la variable aleatoria \"q\" el tiempo de espera en el sistema\n",
    "La probabilidad del tiempo de espera q se divide en la suma de 2 expresiones, una discreta y otra continua como se muestra a continución:\n",
    "\n",
    "$$ P(q \\leq t) = P(q=0) + P(0<q \\leq t) $$\n",
    "\n",
    "$$ P(q \\leq t) = 1-C(c,a) + \\sum_{n=c}^{\\infty}P(q \\leq t|N=n)P(N=n) $$\n",
    "\n",
    "$$(1) \\phantom{aaa} P(q \\leq t) = 1-C(c,a) + \\sum_{n=c}^{\\infty}\\int_{0}^{t}c\\mu e^{-c\\mu x} \\frac{(c\\mu x)^{n-c}}{(n-c)!} dx   P_n     $$\n",
    "\n",
    "Sabemos que: $ P_n =P_0\\rho ^{n-c} \\frac{a^{c}}{c!}$ , donde  $\\rho = \\frac{\\lambda}{c\\mu} $ y $ a = \\frac{\\lambda}{\\mu} $, entonces si desarrollamos, esta ecuación podemos arreglarla un poco:\n",
    "$$ P_n = P_0\\rho ^{n-c} \\frac{a^{c}}{c!} $$\n",
    "$$ P_n = P_0\\frac{\\lambda ^{n-c}}{(c\\mu)^{n-c}}\\frac{\\lambda^{c}}{\\mu ^{c} c!} $$\n",
    "$$ P_n = P_0\\frac{\\lambda ^{n}}{\\mu^{n}c! c^{n-c}}$$\n",
    "$$ P_n = \\frac{a^{n}}{c!c^{n-c}}P_0  \\phantom{aaa} (2)$$\n",
    "Por lo tanto podemos sustituir $P_n$ por la expresión $(2)$, y seguir desarrollando la ecuación $(1)$:\n",
    "$$ P(q \\leq t) = 1-C(c,a) + \\sum_{n=c}^{\\infty}(\\int_{0}^{t}c\\mu e^{-c\\mu x} \\frac{(c\\mu x)^{n-c}}{(n-c)!} dx \\frac{a^n}{c!c^{n-c}}P_0) $$\n",
    "\n",
    "$$ P(q \\leq t) = 1-C(c,a) + \\frac{P_0 ca^c}{c!} \\int_{0}^{t}\\mu e^{-c\\mu x} \\sum_{n=c}^{\\infty} (\\frac{a\\mu x^{n-c}}{(n-c)!}) dx $$\n",
    "\n",
    "$$(1)\\phantom{aaa} P(q \\leq t) = 1-C(c,a) + \\frac{P_0 a^c}{c!} \\int_{0}^{t}\\mu e^{-c\\mu x} \\sum_{n=c}^{\\infty} (\\frac{a\\mu x^{n-c}}{(n-c)!}) $$\n",
    "¿Que hacemos con la sumatoria? sabemos que por propiedad de la sumatoria:\n",
    "$$ \\sum_{n=c}^{\\infty}(\\frac{a^{b}}{b!}) = e^{a} $$\n",
    "\n",
    "Por lo tanto, en nuestro caso la sumatoria se transformaría así:\n",
    "$$ \\sum_{n=c}^{\\infty} (\\frac{a\\mu x^{n-c}}{(n-c)!}) = e^{aux} $$\n",
    "\n",
    "Entonces continuando desde $(3)$ y reemplazando la expresión en la sumatoria:\n",
    "\n",
    "$$ P(q \\leq t) = 1-C(c,a) + \\frac{P_0 a^c}{(c-1)!} \\int_{0}^{t}\\mu e^{-c\\mu x} e^{aux} dx$$\n",
    "\n",
    "$$ P(q \\leq t) = 1-C(c,a) + \\frac{P_0 a^c}{(c-1)!} \\int_{0}^{t}\\mu e^{-(c-a)\\mu x} $$\n",
    "\n",
    "$$ P(q \\leq t) = 1-C(c,a) + \\frac{P_0 a^c}{(c-1)!} \\frac{1-e^{-(c-a)\\mu t}}{c-a} $$\n",
    "\n",
    "$$ P(q \\leq t) = 1-C(c,a) + C(c,a) (1-e^{-(c-a)\\mu t})$$\n",
    "\n",
    "$$(1)\\phantom{aaa} P(q \\leq t) = 1-C(c,a)e^{-(c-a)\\mu t} $$"
   ]
  },
  {
   "cell_type": "markdown",
   "metadata": {},
   "source": [
    "### 2) Distribución de Probabilidad en Equilibrio de la variable aleatoria \"r\" el tiempo de respuesta del sistema."
   ]
  },
  {
   "cell_type": "markdown",
   "metadata": {},
   "source": [
    "Para deducir la distribución de $r$ escribimos la probabilidad acumulada y la condicionamos al estado del sistema, es decir:\n",
    "    \n",
    "$$ P(r \\leq t) = \\sum_{n=0}^{\\infty} P(r \\leq t \\mid N=n) P(N=n) $$\n",
    "    \n",
    "La sumatoria hay que dividirla en 2 términos:\n",
    "\n",
    "$$P(r \\leq t) = \\sum_{n=0}^{c-1} P(r \\leq t \\mid N=n) P(N=n)+ \\sum_{n=c}^{\\infty} P(r \\leq t \\mid N=n) P(N=n)$$\n",
    "\n",
    "**(1) primer término** _$n<c$_\n",
    "    \n",
    "El trabajo que llega encuentra un servidor desocupado, por lo que el tiempo de respuesta cumple:\n",
    "    $$r = q+s = s \\qquad  s \\sim exp(\\mu)$$\n",
    "por otra parte se cumple \n",
    "    $$P(N=n) = p_0 \\frac{a^n}{n!} \\qquad a=\\frac{\\lambda}{\\mu}$$\n",
    "entonces\n",
    "    $$(1) = \\sum_{n=0}^{c-1} P(r \\leq t \\mid N=n) P(N=n)$$\n",
    "    $$\\qquad = \\sum_{n=0}^{c-1}\\left( \\int_0^t \\mu e^{-\\mu x} dx\\right) p_0 \\frac{a^n}{n!}$$\n",
    "\n",
    "Se puede intercambiar sumatoria con integral, entonces:\n",
    "    $$(1) = \\left( \\int_0^t \\mu e^{-\\mu x} dx\\right) p_0 \\sum_{n=0}^{c-1}\\frac{a^n}{n!}$$\n",
    "    $$\\qquad = ( 1 - e^{-\\mu t}) (1 - C[c,a])$$\n",
    "\n",
    "**(2) segundo término** $n>=c$\n",
    "    \n",
    "Apelamos a la misma formulación que para la distribución del tiempo de espera. Si $X$ es el tiempo que tiene que esperar el trabajo que está al tope de la cola, entonces se cumple que \n",
    "    \n",
    "$$ X \\sim \\exp(c\\mu)$$\n",
    "    \n",
    "Y entonces, para calcular el tiempo de respuesta en este caso tenemos:\n",
    "    \n",
    "$$r=q+s = X_1+X_2+\\cdots+X_{n-c+1} + s$$ \n",
    "    \n",
    "donde\n",
    "\n",
    "$$q = X_1+X_2+\\cdots+X_{n-c+1} \\sim \\Gamma(c\\mu,n-c+1)$$\n",
    "\n",
    "Es decir\n",
    "\n",
    "$$ f_q(x) = c\\mu e^{-c\\mu x} \\frac{(c\\mu x)^{n-c}}{(n-c)!} $$\n",
    "    \n",
    "aplicando convolución:\n",
    "    \n",
    "$$(2) =  \\sum_{n=c}^{\\infty} P(r \\leq t \\mid N=n) P(N=n) = \\sum_{n=c}^{\\infty}\\int_0^t \\int_0^{t-s} f_q(x) f_s(s)dx ds P(N=n)$$\n",
    "    \n",
    "$$\\qquad = \\sum_{n=c}^{\\infty}\\int_0^t \\int_0^{t-s} c\\mu e^{-c\\mu x} \\frac{(c\\mu x)^{n-c}}{(n-c)!} \\mu e^{-\\mu s} dx ds P(N=n)$$\n",
    "    \n",
    "    \n",
    "Por otra parte, para $n\\geq c$\n",
    "\n",
    "$$ P(N=n) = p_0 \\frac{a^c}{c!} \\rho^{n-c}$$\n",
    "    \n",
    "entonces \n",
    "    \n",
    "$$(2) = \\sum_{n=c}^{\\infty}\\left(\\int_0^t \\int_0^{t-s} c\\mu e^{-c\\mu x} \\frac{(c\\mu x)^{n-c}}{(n-c)!} \\mu e^{-\\mu s}dx ds \\right)p_0 \\frac{a^c}{c!} \\rho^{n-c}$$\n",
    "    \n",
    "Intercambiando sumatoria e integrales, y agrupando los términos que dependen de $n$ nos queda:\n",
    "    \n",
    "$$(2) = p_0 \\frac{a^c}{c!} \\int_0^t \\int_0^{t-s} \\left(c\\mu e^{-c\\mu x}  \\mu e^{-\\mu s} \\sum_{n=c}^{\\infty} \\frac{(c\\mu x)^{n-c}}{(n-c)!} \\rho^{n-c}\\right)dx ds $$\n",
    "    \n",
    "Resolviendo la sumatoria y agrupando términos:\n",
    "    \n",
    "$$(2) = p_0 \\frac{a^c}{c!} \\int_0^t \\int_0^{t-s} \\left(c\\mu e^{-(c\\mu -\\lambda) x} dx \\right)\\mu e^{-\\mu s}ds $$\n",
    "    \n",
    "Integrando queda finalmente:\n",
    "    \n",
    "$$(2) = \\frac{C[c,a]}{c(1-\\rho) - 1}\\left(c(1-\\rho)(1-e^{-\\mu t}) - (1- e^{-(c\\mu - \\lambda) t})\\right )$$\n",
    "    \n",
    "Y sumando (1) y (2), queda:\n",
    "    \n",
    "$$P(r \\leq t) = \\frac{c(1-\\rho) - (1- C[c,a])}{c(1-\\rho) - 1}(1-e^{-\\mu t}) - \\frac{C[c,a]}{c(1-\\rho) - 1}(1- e^{-(c\\mu - \\lambda) t})$$"
   ]
  },
  {
   "cell_type": "markdown",
   "metadata": {},
   "source": [
    "### Vamos con un ejemplo para clarificar un poco más:\n",
    "\n",
    "- __Ejercicio Propuesto__: Considere una central telefónica que puede modelarse como un sistema de colas M/M/C. Muestre que las líneas necesarias $c$ para que el número de llamadas que deben esperar más de un minuto no supere el 10% debe cumplir:\n",
    "\n",
    "$$ c > \\frac{ \\lambda + \\ln(10C[c,a]) }{ \\mu } $$"
   ]
  },
  {
   "cell_type": "markdown",
   "metadata": {},
   "source": [
    "## Desarrollo\n",
    "Sabemos que la probabilidad de que $q$ sea menor a un tiempo $t$ está dado por: \n",
    "$$(1) \\phantom{aaa} P(q \\leq t) = 1-C(c,a)e^{-(c-a)\\mu t} $$\n",
    "\n",
    "Sabemos el tiempo que no se debe superar: t = 1[min]\n",
    "\n",
    "Sabemos la probabilidad de que se cumpla ese suceso (10%): $P(q>1) = 0.1$\n",
    "\n",
    "\n",
    "\n",
    "$$ P(q>1) = 1-P(q \\leq 1) $$\n",
    "\n",
    "$$ 0.1 = C(c,a)e^{-(c-a)\\mu} $$\n",
    "\n",
    "$$ \\frac{1}{10} = C(c,a)e^{-(c-a)\\mu}$$\n",
    "\n",
    "$$ 1 = 10C(c,a)e^{-(c-a)\\mu} \\phantom{aaa}/ln()$$\n",
    "\n",
    "$$ 0 = ln(10C(c,a))+ (-(c-a)\\mu)$$\n",
    "\n",
    "Y recordando que $a = \\frac{\\lambda}{\\mu}$\n",
    "\n",
    "$$ 0 = ln(10C(c,a))-c\\mu + \\lambda$$\n",
    "\n",
    "$$ c\\mu = \\lambda + ln(10C(c,a)) $$\n",
    "\n",
    "$$ c = \\frac{\\lambda + ln(10C(c,a))}{\\mu}$$\n",
    "\n",
    "$$ c > \\frac{\\lambda + ln(10C(c,a))}{\\mu}$$"
   ]
  },
  {
   "cell_type": "code",
   "execution_count": null,
   "metadata": {},
   "outputs": [],
   "source": []
  }
 ],
 "metadata": {
  "kernelspec": {
   "display_name": "R",
   "language": "R",
   "name": "ir"
  },
  "language_info": {
   "codemirror_mode": "r",
   "file_extension": ".r",
   "mimetype": "text/x-r-source",
   "name": "R",
   "pygments_lexer": "r",
   "version": "3.6.1"
  }
 },
 "nbformat": 4,
 "nbformat_minor": 4
}

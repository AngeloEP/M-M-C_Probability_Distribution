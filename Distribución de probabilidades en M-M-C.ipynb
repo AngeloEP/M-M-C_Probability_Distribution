{
 "cells": [
  {
   "cell_type": "markdown",
   "metadata": {},
   "source": [
    "# Distribución de Probabilidades para M/M/C\n",
    "\n",
    "**** REPASO DE M/M/C Y SUS FÓRMULAS PRINCIPALES PARA EL DESARROLLO DE LAS DISTRIBUCIONES DE PROBABILIDADES ****\n",
    "\n",
    "Hagamos un recuerdo de que significa una distribución de probabilidades:\n",
    "- La distribución de probabilidad de una variable aleatoria es una función que asigna a __cada suceso__ definido sobre la __variable la probabilidad__ de que dicho suceso ocurra. La distribución de probabilidad está definida sobre el conjunto de todos los sucesos y cada uno de los sucesos es el rango de valores de la variable aleatoria. "
   ]
  },
  {
   "cell_type": "markdown",
   "metadata": {},
   "source": [
    "### 1) Distribución de Probabilidad en Equilibrio de la variable aleatoria \"q\" el tiempo de espera en el sistema"
   ]
  },
  {
   "cell_type": "markdown",
   "metadata": {},
   "source": [
    "### 2) Distribución de Probabilidad en Equilibrio de la variable aleatoria \"r\" el tiempo de respuesta del sistema."
   ]
  },
  {
   "cell_type": "markdown",
   "metadata": {},
   "source": [
    "### Vamos con un ejemplo para clarificar un poco más:\n",
    "\n",
    "- __Ejercicio Propuesto__: Considere una central telefónica que puede modelarse como un sistema de colas M/M/C. Muestre que las líneas necesarias $c$ para que el número de llamadas que deben esperar más de un minuto no supere el 10% debe cumplir:\n",
    "\n",
    "$$ c > \\frac{ \\lambda + \\ln(10C[c,a]) }{ \\mu } $$"
   ]
  },
  {
   "cell_type": "markdown",
   "metadata": {},
   "source": [
    "## Desarrollo\n",
    "\n",
    "¡¡$Write $ $ Here $!!"
   ]
  }
 ],
 "metadata": {
  "kernelspec": {
   "display_name": "R",
   "language": "R",
   "name": "ir"
  },
  "language_info": {
   "codemirror_mode": "r",
   "file_extension": ".r",
   "mimetype": "text/x-r-source",
   "name": "R",
   "pygments_lexer": "r",
   "version": "3.6.1"
  }
 },
 "nbformat": 4,
 "nbformat_minor": 4
}
